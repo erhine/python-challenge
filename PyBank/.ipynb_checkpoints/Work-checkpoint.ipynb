{
 "cells": [
  {
   "cell_type": "code",
   "execution_count": 17,
   "id": "b5d667d3-901d-465a-9dd2-940f152883b6",
   "metadata": {},
   "outputs": [
    {
     "name": "stdout",
     "output_type": "stream",
     "text": [
      "Financial Analysis\n",
      "------------------------------------------\n",
      "Total Months: 86\n",
      "Total: $22564198\n"
     ]
    }
   ],
   "source": [
    "#import os module to create file paths across operating systems\n",
    "import os\n",
    "\n",
    "# import module for reading csv files\n",
    "import csv\n",
    "\n",
    "#COME BACK TO\n",
    "#the below works because this file exists in the same folder as \"Resources\"\n",
    "csv_path = os.path.join('Resources', 'budget_data.csv')\n",
    "\n",
    "#set variables\n",
    "NumberOfMonths = 0\n",
    "NetProfit = 0\n",
    "ChangeInProfit = 0\n",
    "GreatestIncreaseAmount = 0\n",
    "GreatestIncreaseMonth = ''\n",
    "GreatestDecreaseAmount = 0\n",
    "GreatestDecreaseMonth = ''\n",
    "\n",
    "\n",
    "with open(csv_path, encoding='UTF-8') as csv_file:\n",
    "    csv_reader = csv.reader(csv_file, delimiter=\",\")\n",
    "\n",
    "    # Read the header row first \n",
    "    csv_header = next(csv_file)\n",
    "    #print(f\"Header: {csv_header}\")\n",
    "\n",
    "    # Read through each row of data after the header\n",
    "    for row in csv_reader:\n",
    "\n",
    "        #count number of months\n",
    "        NumberOfMonths = NumberOfMonths + 1\n",
    "\n",
    "        #add profit/loss\n",
    "        NetProfit = NetProfit + int(row[1])\n",
    "\n",
    "        #The changes in \"Profit/Losses\" over the entire period, and then the average of those changes\n",
    "        \n",
    "#Print out findings\n",
    "print(\"Financial Analysis\")\n",
    "print(\"------------------------------------------\")\n",
    "print(f\"Total Months: {NumberOfMonths}\")\n",
    "print(f\"Total: ${NetProfit}\")\n",
    "\n"
   ]
  },
  {
   "cell_type": "code",
   "execution_count": null,
   "id": "839f8fa1-676e-4d7b-827a-b719f778c28e",
   "metadata": {},
   "outputs": [],
   "source": []
  }
 ],
 "metadata": {
  "kernelspec": {
   "display_name": "Python 3 (ipykernel)",
   "language": "python",
   "name": "python3"
  },
  "language_info": {
   "codemirror_mode": {
    "name": "ipython",
    "version": 3
   },
   "file_extension": ".py",
   "mimetype": "text/x-python",
   "name": "python",
   "nbconvert_exporter": "python",
   "pygments_lexer": "ipython3",
   "version": "3.11.7"
  }
 },
 "nbformat": 4,
 "nbformat_minor": 5
}
